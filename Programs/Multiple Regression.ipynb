{
 "cells": [
  {
   "cell_type": "code",
   "execution_count": 2,
   "id": "digital-cargo",
   "metadata": {},
   "outputs": [],
   "source": [
    "import numpy as np\n",
    "import pandas as pd\n",
    "import matplotlib.pyplot as plt"
   ]
  },
  {
   "cell_type": "code",
   "execution_count": 7,
   "id": "independent-cooperation",
   "metadata": {},
   "outputs": [
    {
     "data": {
      "text/html": [
       "<div>\n",
       "<style scoped>\n",
       "    .dataframe tbody tr th:only-of-type {\n",
       "        vertical-align: middle;\n",
       "    }\n",
       "\n",
       "    .dataframe tbody tr th {\n",
       "        vertical-align: top;\n",
       "    }\n",
       "\n",
       "    .dataframe thead th {\n",
       "        text-align: right;\n",
       "    }\n",
       "</style>\n",
       "<table border=\"1\" class=\"dataframe\">\n",
       "  <thead>\n",
       "    <tr style=\"text-align: right;\">\n",
       "      <th></th>\n",
       "      <th>X1</th>\n",
       "      <th>X2</th>\n",
       "      <th>X3</th>\n",
       "      <th>X4</th>\n",
       "      <th>X5</th>\n",
       "    </tr>\n",
       "  </thead>\n",
       "  <tbody>\n",
       "    <tr>\n",
       "      <th>0</th>\n",
       "      <td>8.0</td>\n",
       "      <td>78</td>\n",
       "      <td>284</td>\n",
       "      <td>9.1</td>\n",
       "      <td>109</td>\n",
       "    </tr>\n",
       "    <tr>\n",
       "      <th>1</th>\n",
       "      <td>9.3</td>\n",
       "      <td>68</td>\n",
       "      <td>433</td>\n",
       "      <td>8.7</td>\n",
       "      <td>144</td>\n",
       "    </tr>\n",
       "    <tr>\n",
       "      <th>2</th>\n",
       "      <td>7.5</td>\n",
       "      <td>70</td>\n",
       "      <td>739</td>\n",
       "      <td>7.2</td>\n",
       "      <td>113</td>\n",
       "    </tr>\n",
       "    <tr>\n",
       "      <th>3</th>\n",
       "      <td>8.9</td>\n",
       "      <td>96</td>\n",
       "      <td>1792</td>\n",
       "      <td>8.9</td>\n",
       "      <td>97</td>\n",
       "    </tr>\n",
       "    <tr>\n",
       "      <th>4</th>\n",
       "      <td>10.2</td>\n",
       "      <td>74</td>\n",
       "      <td>477</td>\n",
       "      <td>8.3</td>\n",
       "      <td>206</td>\n",
       "    </tr>\n",
       "  </tbody>\n",
       "</table>\n",
       "</div>"
      ],
      "text/plain": [
       "     X1  X2    X3   X4   X5\n",
       "0   8.0  78   284  9.1  109\n",
       "1   9.3  68   433  8.7  144\n",
       "2   7.5  70   739  7.2  113\n",
       "3   8.9  96  1792  8.9   97\n",
       "4  10.2  74   477  8.3  206"
      ]
     },
     "execution_count": 7,
     "metadata": {},
     "output_type": "execute_result"
    }
   ],
   "source": [
    "data=pd.read_csv(r'C:\\Users\\Deependu Mandal\\Desktop\\dataset.csv')\n",
    "data.head()"
   ]
  },
  {
   "cell_type": "code",
   "execution_count": 8,
   "id": "adapted-textbook",
   "metadata": {},
   "outputs": [],
   "source": [
    "x1=data['X1'].values\n",
    "x2=data['X2'].values\n",
    "x3=data['X3'].values\n",
    "x4=data['X4'].values\n",
    "y=data['X5'].values"
   ]
  },
  {
   "cell_type": "code",
   "execution_count": 9,
   "id": "extreme-crossing",
   "metadata": {},
   "outputs": [],
   "source": [
    "#from summary output\n",
    "\n",
    "m1=-7.657093797\n",
    "m2=-0.144987125\n",
    "m3=0.035093591\n",
    "m4=5.526699214\n",
    "\n",
    "intercept=125.8809746"
   ]
  },
  {
   "cell_type": "code",
   "execution_count": 11,
   "id": "entitled-workplace",
   "metadata": {},
   "outputs": [
    {
     "name": "stdout",
     "output_type": "stream",
     "text": [
      "[113.57477327 108.08868333 124.03006941 155.88941469  99.66081951\n",
      " 119.17842302 126.1493308  106.75319955  91.68920172  87.6413747\n",
      " 121.02500418 115.15056254 107.77557691 127.02107941 100.32106632\n",
      " 122.20166569 137.36529754 107.82391551  90.60395855 127.96277072\n",
      "  86.77648128 100.37789718 142.95668419 121.96391305 107.11312635\n",
      "  95.39346248 103.07279765 107.2932807   82.2950901  115.8509587\n",
      " 143.51636909 115.5076207  111.83447675  95.57444558 102.18207726\n",
      "  93.68365413 109.93018021 117.39207608 143.89682922 102.08263638\n",
      " 124.61480781  99.24047254 142.66774466 117.70361381  95.72706312\n",
      " 117.73625041 105.89061639 101.96887136  81.60392005  92.67943786\n",
      "  72.34946811 101.63872311 121.5787852 ]\n"
     ]
    }
   ],
   "source": [
    "y_pred = intercept + m1*x1 + m2*x2 + m3*x3 + m4*x4\n",
    "print(y_pred)"
   ]
  },
  {
   "cell_type": "code",
   "execution_count": 12,
   "id": "heard-necessity",
   "metadata": {},
   "outputs": [
    {
     "name": "stdout",
     "output_type": "stream",
     "text": [
      "1879.0173148359318\n"
     ]
    }
   ],
   "source": [
    "error=sum((y_pred - y)**2)/len(y)\n",
    "print(error)"
   ]
  },
  {
   "cell_type": "code",
   "execution_count": null,
   "id": "suspected-messaging",
   "metadata": {},
   "outputs": [],
   "source": []
  }
 ],
 "metadata": {
  "kernelspec": {
   "display_name": "Python 3",
   "language": "python",
   "name": "python3"
  },
  "language_info": {
   "codemirror_mode": {
    "name": "ipython",
    "version": 3
   },
   "file_extension": ".py",
   "mimetype": "text/x-python",
   "name": "python",
   "nbconvert_exporter": "python",
   "pygments_lexer": "ipython3",
   "version": "3.8.3"
  }
 },
 "nbformat": 4,
 "nbformat_minor": 5
}
