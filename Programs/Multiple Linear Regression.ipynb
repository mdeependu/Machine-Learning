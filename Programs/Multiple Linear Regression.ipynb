{
 "cells": [
  {
   "cell_type": "code",
   "execution_count": 4,
   "id": "tamil-bronze",
   "metadata": {},
   "outputs": [],
   "source": [
    "import numpy as np\n",
    "import pandas as pd\n",
    "import matplotlib.pyplot as plt"
   ]
  },
  {
   "cell_type": "code",
   "execution_count": 5,
   "id": "stock-construction",
   "metadata": {},
   "outputs": [
    {
     "data": {
      "text/html": [
       "<div>\n",
       "<style scoped>\n",
       "    .dataframe tbody tr th:only-of-type {\n",
       "        vertical-align: middle;\n",
       "    }\n",
       "\n",
       "    .dataframe tbody tr th {\n",
       "        vertical-align: top;\n",
       "    }\n",
       "\n",
       "    .dataframe thead th {\n",
       "        text-align: right;\n",
       "    }\n",
       "</style>\n",
       "<table border=\"1\" class=\"dataframe\">\n",
       "  <thead>\n",
       "    <tr style=\"text-align: right;\">\n",
       "      <th></th>\n",
       "      <th>X1</th>\n",
       "      <th>X2</th>\n",
       "      <th>X3</th>\n",
       "      <th>X4</th>\n",
       "      <th>X5</th>\n",
       "    </tr>\n",
       "  </thead>\n",
       "  <tbody>\n",
       "    <tr>\n",
       "      <th>0</th>\n",
       "      <td>8.0</td>\n",
       "      <td>78</td>\n",
       "      <td>284</td>\n",
       "      <td>9.1</td>\n",
       "      <td>109</td>\n",
       "    </tr>\n",
       "    <tr>\n",
       "      <th>1</th>\n",
       "      <td>9.3</td>\n",
       "      <td>68</td>\n",
       "      <td>433</td>\n",
       "      <td>8.7</td>\n",
       "      <td>144</td>\n",
       "    </tr>\n",
       "    <tr>\n",
       "      <th>2</th>\n",
       "      <td>7.5</td>\n",
       "      <td>70</td>\n",
       "      <td>739</td>\n",
       "      <td>7.2</td>\n",
       "      <td>113</td>\n",
       "    </tr>\n",
       "    <tr>\n",
       "      <th>3</th>\n",
       "      <td>8.9</td>\n",
       "      <td>96</td>\n",
       "      <td>1792</td>\n",
       "      <td>8.9</td>\n",
       "      <td>97</td>\n",
       "    </tr>\n",
       "    <tr>\n",
       "      <th>4</th>\n",
       "      <td>10.2</td>\n",
       "      <td>74</td>\n",
       "      <td>477</td>\n",
       "      <td>8.3</td>\n",
       "      <td>206</td>\n",
       "    </tr>\n",
       "  </tbody>\n",
       "</table>\n",
       "</div>"
      ],
      "text/plain": [
       "     X1  X2    X3   X4   X5\n",
       "0   8.0  78   284  9.1  109\n",
       "1   9.3  68   433  8.7  144\n",
       "2   7.5  70   739  7.2  113\n",
       "3   8.9  96  1792  8.9   97\n",
       "4  10.2  74   477  8.3  206"
      ]
     },
     "execution_count": 5,
     "metadata": {},
     "output_type": "execute_result"
    }
   ],
   "source": [
    "data=pd.read_csv(r'C:\\Users\\Deependu Mandal\\Desktop\\dataset.csv')\n",
    "data.head()"
   ]
  },
  {
   "cell_type": "code",
   "execution_count": 6,
   "id": "bronze-preliminary",
   "metadata": {},
   "outputs": [],
   "source": [
    "x_1=data.iloc[:,0:1].values\n",
    "x_2=data.iloc[:,1:2].values\n",
    "x_3=data.iloc[:,2:3].values\n",
    "x_4=data.iloc[:,3:4].values\n",
    "x_5=data.iloc[:,4:5].values"
   ]
  },
  {
   "cell_type": "code",
   "execution_count": 7,
   "id": "expected-metropolitan",
   "metadata": {},
   "outputs": [],
   "source": [
    "y=data.iloc[:,-1:].values"
   ]
  },
  {
   "cell_type": "code",
   "execution_count": 8,
   "id": "essential-huntington",
   "metadata": {},
   "outputs": [],
   "source": [
    "l_1=[]\n",
    "l_2=[]\n",
    "l_3=[]\n",
    "l_4=[]\n",
    "l_5=[]"
   ]
  },
  {
   "cell_type": "code",
   "execution_count": 9,
   "id": "academic-mechanics",
   "metadata": {},
   "outputs": [],
   "source": [
    "for i in range(len(x_1)):\n",
    "    l_1.append(x_1[i])\n",
    "    l_2.append(x_2[i])\n",
    "    l_3.append(x_3[i])\n",
    "    l_4.append(x_4[i])\n",
    "    l_5.append(x_5[i])"
   ]
  },
  {
   "cell_type": "code",
   "execution_count": 11,
   "id": "fantastic-python",
   "metadata": {},
   "outputs": [
    {
     "name": "stdout",
     "output_type": "stream",
     "text": [
      "[8.]\n",
      "[9.30000019]\n",
      "[7.5]\n",
      "[8.89999962]\n",
      "[10.19999981]\n",
      "[8.30000019]\n",
      "[8.80000019]\n",
      "[8.80000019]\n",
      "[10.69999981]\n",
      "[11.69999981]\n",
      "[8.5]\n",
      "[8.30000019]\n",
      "[8.19999981]\n",
      "[7.9000001]\n",
      "[10.30000019]\n",
      "[7.4000001]\n",
      "[9.60000038]\n",
      "[9.30000019]\n",
      "[10.60000038]\n",
      "[9.69999981]\n",
      "[11.60000038]\n",
      "[8.10000038]\n",
      "[9.80000019]\n",
      "[7.4000001]\n",
      "[9.39999962]\n",
      "[11.19999981]\n",
      "[9.10000038]\n",
      "[10.5]\n",
      "[11.89999962]\n",
      "[8.39999962]\n",
      "[5.]\n",
      "[9.80000019]\n",
      "[9.80000019]\n",
      "[10.80000019]\n",
      "[10.10000038]\n",
      "[10.89999962]\n",
      "[9.19999981]\n",
      "[8.30000019]\n",
      "[7.30000019]\n",
      "[9.39999962]\n",
      "[9.39999962]\n",
      "[9.80000019]\n",
      "[3.5999999]\n",
      "[8.39999962]\n",
      "[10.80000019]\n",
      "[10.10000038]\n",
      "[9.]\n",
      "[10.]\n",
      "[11.30000019]\n",
      "[11.30000019]\n",
      "[12.80000019]\n",
      "[10.]\n",
      "[6.69999981]\n"
     ]
    }
   ],
   "source": [
    "for j in l_1:\n",
    "    print(j)"
   ]
  },
  {
   "cell_type": "code",
   "execution_count": null,
   "id": "pleased-designation",
   "metadata": {},
   "outputs": [],
   "source": []
  }
 ],
 "metadata": {
  "kernelspec": {
   "display_name": "Python 3",
   "language": "python",
   "name": "python3"
  },
  "language_info": {
   "codemirror_mode": {
    "name": "ipython",
    "version": 3
   },
   "file_extension": ".py",
   "mimetype": "text/x-python",
   "name": "python",
   "nbconvert_exporter": "python",
   "pygments_lexer": "ipython3",
   "version": "3.8.3"
  }
 },
 "nbformat": 4,
 "nbformat_minor": 5
}
