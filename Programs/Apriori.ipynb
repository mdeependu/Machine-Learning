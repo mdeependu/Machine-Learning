{
 "cells": [
  {
   "cell_type": "code",
   "execution_count": 1,
   "id": "assumed-blogger",
   "metadata": {},
   "outputs": [],
   "source": [
    "import pandas as pd"
   ]
  },
  {
   "cell_type": "code",
   "execution_count": 5,
   "id": "weighted-sapphire",
   "metadata": {},
   "outputs": [
    {
     "name": "stdout",
     "output_type": "stream",
     "text": [
      "    TID         LIST\n",
      "0  T100     11,12,15\n",
      "1  T200        12,14\n",
      "2  T300        12,13\n",
      "3  T400     11,12,14\n",
      "4  T500        11,13\n",
      "5  T600        12,13\n",
      "6  T700        11,13\n",
      "7  T800  11,12,13,15\n",
      "8  T900     11,12,13\n"
     ]
    }
   ],
   "source": [
    "data=pd.read_csv(r'C:\\Users\\Deependu Mandal\\Desktop\\aprior.csv')\n",
    "print(data)"
   ]
  },
  {
   "cell_type": "code",
   "execution_count": null,
   "id": "invisible-effectiveness",
   "metadata": {},
   "outputs": [],
   "source": []
  }
 ],
 "metadata": {
  "kernelspec": {
   "display_name": "Python 3",
   "language": "python",
   "name": "python3"
  },
  "language_info": {
   "codemirror_mode": {
    "name": "ipython",
    "version": 3
   },
   "file_extension": ".py",
   "mimetype": "text/x-python",
   "name": "python",
   "nbconvert_exporter": "python",
   "pygments_lexer": "ipython3",
   "version": "3.8.3"
  }
 },
 "nbformat": 4,
 "nbformat_minor": 5
}
